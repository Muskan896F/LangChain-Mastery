{
 "cells": [
  {
   "cell_type": "markdown",
   "metadata": {},
   "source": [
    "## Types of Prompting with Examples \n",
    "Zero-Shot Prompting:\n",
    "Ask a task without examples.\n",
    "Example: \"Translate this to French: Hello.\"\n",
    "\n",
    "One-Shot Prompting:\n",
    "Provide one example before the task.\n",
    "Example:\n",
    "\"Translate: 'Hello -> Bonjour'. Now, translate: 'Goodbye'.\"\n",
    "\n",
    "Few-Shot Prompting:\n",
    "Provide a few examples to guide the model.\n",
    "Example:\n",
    "\"Translate: 'Hello -> Bonjour', 'Cat -> Chat'. Now, translate: 'Dog'.\"\n",
    "\n",
    "Chain-of-Thought Prompting:\n",
    "Encourage step-by-step reasoning.\n",
    "Example:\n",
    "\"Calculate: If 5 apples cost $10, what is the cost of 2 apples? Step-by-step, first find the cost of 1 apple...\"\n",
    "\n",
    "Role-Based Prompting:\n",
    "Assign a role to influence tone or expertise.\n",
    "Example:\n",
    "\"You are a teacher. Explain Python functions to beginners.\"\n",
    "\n",
    "Instruction-Based Prompting:\n",
    "Provide detailed instructions for specific output.\n",
    "Example:\n",
    "\"Summarize the text in 3 bullet points.\"\n",
    "\n",
    "Interactive Prompting:\n",
    "Use iterative inputs for clarification or refinement.\n",
    "Example:\n",
    "\"Rewrite this text to make it formal. If unclear, ask questions.\"\n",
    "\n",
    "Prompt Chaining:\n",
    "Break tasks into smaller parts.\n",
    "Example:\n",
    "\"First, generate a title. Then create an outline. Finally, write the content.\"\n",
    "\n",
    "Contextual Prompting:\n",
    "Provide relevant context for better responses.\n",
    "Example:\n",
    "\"Based on the given paragraph, summarize it in one sentence.\"\n",
    "\n",
    "Multimodal Prompting:\n",
    "Use text along with other inputs like images.\n",
    "Example:\n",
    "\"Describe the attached image in one sentence.\""
   ]
  },
  {
   "cell_type": "code",
   "execution_count": null,
   "metadata": {},
   "outputs": [],
   "source": []
  },
  {
   "cell_type": "markdown",
   "metadata": {},
   "source": [
    "### 10 Prompt Engineering Tips (Short Version)\n",
    "Be Clear:\n",
    "Use specific and precise instructions. Example: \"Summarize in 2 sentences.\"\n",
    "\n",
    "Define Output Format:\n",
    "Request structured responses like bullet points, JSON, or HTML.\n",
    "\n",
    "Ask for a Self-Check:\n",
    "Add checks like: \"If unsure, respond with 'No information.'\"\n",
    "\n",
    "Use Delimiters or Tags:\n",
    "Separate instructions and context clearly to avoid confusion.\n",
    "\n",
    "Role Prompting:\n",
    "Assign a role to the model to adjust style and tone, e.g., \"Act as a mathematician.\"\n",
    "\n",
    "Limit Context:\n",
    "Use only the most relevant parts of a document to improve response accuracy.\n",
    "\n",
    "Show Examples:\n",
    "Provide examples to guide the model toward desired responses.\n",
    "\n",
    "Ask for Explanation:\n",
    "Request reasoning to improve accuracy, especially for logical tasks.\n",
    "\n",
    "Provide Step-by-Step Instructions:\n",
    "Include detailed steps or examples for better problem-solving.\n",
    "\n",
    "Split Tasks:\n",
    "Break complex tasks into smaller subtasks (prompt chaining) for more control."
   ]
  },
  {
   "cell_type": "code",
   "execution_count": 1,
   "metadata": {},
   "outputs": [],
   "source": [
    "import os\n",
    "from dotenv import load_dotenv, find_dotenv\n",
    "_ = load_dotenv(find_dotenv())\n",
    "openai_api_key = os.environ[\"OPENAI_API_KEY\"]"
   ]
  },
  {
   "cell_type": "code",
   "execution_count": 2,
   "metadata": {},
   "outputs": [],
   "source": [
    "from langchain_openai import OpenAI\n",
    "from langchain_openai import ChatOpenAI\n",
    "\n",
    "\n",
    "chatModel = ChatOpenAI(model=\"gpt-3.5-turbo\")"
   ]
  },
  {
   "cell_type": "code",
   "execution_count": 3,
   "metadata": {},
   "outputs": [],
   "source": [
    "prompt = \"\"\"\n",
    "How can I effectively prepare for my board exams?\n",
    "Example: 'Create a schedule for one week in a tabular format'\n",
    "\"\"\""
   ]
  },
  {
   "cell_type": "code",
   "execution_count": 4,
   "metadata": {},
   "outputs": [],
   "source": [
    "response = chatModel.invoke(prompt)"
   ]
  },
  {
   "cell_type": "markdown",
   "metadata": {},
   "source": []
  },
  {
   "cell_type": "code",
   "execution_count": 5,
   "metadata": {},
   "outputs": [
    {
     "name": "stdout",
     "output_type": "stream",
     "text": [
      "content='Here is an example of a weekly study schedule:\\n\\nDay    | Time Slot              | Activity\\n-------------------------------------------------------\\nMonday | 9:00 am - 11:00 am     | Study Physics\\n       | 11:30 am - 1:30 pm     | Practice Math problems\\n       | 2:00 pm - 4:00 pm      | Review Chemistry notes\\n\\nTuesday| 9:00 am - 11:00 am     | Study Biology\\n       | 11:30 am - 1:30 pm     | Practice past exam papers\\n       | 2:00 pm - 4:00 pm      | Revise English literature \\n\\nWednesday| 9:00 am - 11:00 am    | Study Social Studies\\n         | 11:30 am - 1:30 pm    | Practice more math problems\\n         | 2:00 pm - 4:00 pm     | Review notes on Economics\\n\\nThursday| 9:00 am - 11:00 am     | Study Geography\\n       | 11:30 am - 1:30 pm     | Take a break or go for a walk\\n       | 2:00 pm - 4:00 pm      | Practice more Biology problems\\n\\nFriday | 9:00 am - 11:00 am     | Study History\\n       | 11:30 am - 1:30 pm     | Practice more Chemistry problems\\n       | 2:00 pm - 4:00 pm      | Review notes on Political Science\\n\\nSaturday| 9:00 am - 11:00 am    | Review all subjects\\n        | 11:30 am - 1:30 pm    | Take a mock exam\\n        | 2:00 pm - 4:00 pm     | Analyze and revise weak areas\\n\\nSunday| 9:00 am - 11:00 am      | Review notes on all subjects\\n      | 11:30 am - 1:30 pm      | Practice time management for exams\\n      | 2:00 pm onwards         | Relax and unwind\\n\\nRemember to adjust the schedule according to your subjects, strengths, and weaknesses, and make sure to take regular breaks and get enough sleep to stay focused and energized during your exam preparation.' additional_kwargs={'refusal': None} response_metadata={'token_usage': {'completion_tokens': 469, 'prompt_tokens': 33, 'total_tokens': 502, 'completion_tokens_details': {'accepted_prediction_tokens': 0, 'audio_tokens': 0, 'reasoning_tokens': 0, 'rejected_prediction_tokens': 0}, 'prompt_tokens_details': {'audio_tokens': 0, 'cached_tokens': 0}}, 'model_name': 'gpt-3.5-turbo-0125', 'system_fingerprint': None, 'id': 'chatcmpl-BbOjSOwmqTWinpWJPR60RXRxYoU4W', 'service_tier': 'default', 'finish_reason': 'stop', 'logprobs': None} id='run--efbd50fa-e132-4082-8421-347ddd63d5c3-0' usage_metadata={'input_tokens': 33, 'output_tokens': 469, 'total_tokens': 502, 'input_token_details': {'audio': 0, 'cache_read': 0}, 'output_token_details': {'audio': 0, 'reasoning': 0}}\n"
     ]
    }
   ],
   "source": [
    "print(response)"
   ]
  },
  {
   "cell_type": "code",
   "execution_count": 6,
   "metadata": {},
   "outputs": [],
   "source": [
    "prompt = \"\"\"\n",
    "How can I effectively prepare for my board exams?\n",
    "Example 1: 'Divide the syllabus into smaller parts and focus on one section at a time.'\n",
    "Example 2: 'Review past papers to get familiar with the exam pattern.'\n",
    "\"\"\""
   ]
  },
  {
   "cell_type": "code",
   "execution_count": 7,
   "metadata": {},
   "outputs": [
    {
     "name": "stdout",
     "output_type": "stream",
     "text": [
      "Example 3: 'Create a study schedule and stick to it to ensure consistent preparation.'\n",
      "Example 4: 'Seek help from teachers or tutors for any difficult topics that you are struggling with.'\n",
      "Example 5: 'Stay organized and keep track of your progress by using tools like study planners or study apps.'\n"
     ]
    }
   ],
   "source": [
    "response = chatModel.invoke(prompt)\n",
    "\n",
    "study_schedule = response.content\n",
    "print(study_schedule)"
   ]
  },
  {
   "cell_type": "code",
   "execution_count": 8,
   "metadata": {},
   "outputs": [],
   "source": [
    "prompt = \"\"\"\n",
    "What steps should I take to prepare borad exam you have to give fore maths , physics , chemisty in 2 days adn also give in computer plan give in tabular format\n",
    "\n",
    "\"\"\""
   ]
  },
  {
   "cell_type": "code",
   "execution_count": 9,
   "metadata": {},
   "outputs": [
    {
     "name": "stdout",
     "output_type": "stream",
     "text": [
      "| Subject      | Steps to Prepare for Board Exam    |\n",
      "|--------------|-----------------------------------|\n",
      "| Maths        | 1. Review key concepts and formulas |\n",
      "|              | 2. Solve practice problems and sample papers |\n",
      "|              | 3. Create a study schedule to cover all topics |\n",
      "|              | 4. Take short breaks to avoid burnout |\n",
      "|              | 5. Get a good night's sleep before the exam |\n",
      "|--------------|-----------------------------------|\n",
      "| Physics      | 1. Review important equations and principles |\n",
      "|              | 2. Practice numerical problems and diagrams |\n",
      "|              | 3. Discuss key topics with classmates or teachers |\n",
      "|              | 4. Take mock tests to assess your understanding |\n",
      "|              | 5. Stay calm and focused during the exam |\n",
      "|--------------|-----------------------------------|\n",
      "| Chemistry    | 1. Revise chemical reactions and periodic table trends |\n",
      "|              | 2. Practice balancing equations and naming compounds |\n",
      "|              | 3. Understand concepts of stoichiometry and thermodynamics |\n",
      "|              | 4. Review lab experiments and their results |\n",
      "|              | 5. Stay organized with notes and reference materials |\n",
      "|--------------|-----------------------------------|\n",
      "| Computer     | 1. Review basic concepts like algorithms and data structures |\n",
      "|              | 2. Practice coding problems in different languages |\n",
      "|              | 3. Understand programming paradigms and software development |\n",
      "|              | 4. Study computer hardware and networking concepts |\n",
      "|              | 5. Stay updated with latest trends and technologies in the field |\n"
     ]
    }
   ],
   "source": [
    "response = chatModel.invoke(prompt)\n",
    "\n",
    "study_schedule = response.content\n",
    "print(study_schedule)"
   ]
  },
  {
   "cell_type": "code",
   "execution_count": null,
   "metadata": {},
   "outputs": [],
   "source": []
  },
  {
   "cell_type": "markdown",
   "metadata": {},
   "source": [
    "# Prompt Template"
   ]
  },
  {
   "cell_type": "markdown",
   "metadata": {},
   "source": []
  },
  {
   "cell_type": "code",
   "execution_count": 10,
   "metadata": {},
   "outputs": [],
   "source": [
    "import os\n",
    "from dotenv import load_dotenv, find_dotenv\n",
    "_ = load_dotenv(find_dotenv())\n",
    "openai_api_key = os.environ[\"OPENAI_API_KEY\"]"
   ]
  },
  {
   "cell_type": "code",
   "execution_count": 11,
   "metadata": {},
   "outputs": [],
   "source": [
    "from langchain_openai import OpenAI\n",
    "from langchain_openai import ChatOpenAI\n",
    "\n",
    "\n",
    "chatModel = ChatOpenAI(model=\"gpt-3.5-turbo\")"
   ]
  },
  {
   "cell_type": "code",
   "execution_count": 12,
   "metadata": {},
   "outputs": [],
   "source": [
    "from langchain_core.prompts import PromptTemplate"
   ]
  },
  {
   "cell_type": "code",
   "execution_count": 13,
   "metadata": {},
   "outputs": [],
   "source": [
    "prompt_template = \"Translate the following English text to French: {text}\"\n",
    "prompt =PromptTemplate.from_template(prompt_template)\n",
    "formatted_prompt = prompt.format(text=\"Hello, I m a prince katiyar?\")"
   ]
  },
  {
   "cell_type": "code",
   "execution_count": 14,
   "metadata": {},
   "outputs": [
    {
     "data": {
      "text/plain": [
       "AIMessage(content='Bonjour, je suis un prince katiyar.', additional_kwargs={'refusal': None}, response_metadata={'token_usage': {'completion_tokens': 10, 'prompt_tokens': 25, 'total_tokens': 35, 'completion_tokens_details': {'accepted_prediction_tokens': 0, 'audio_tokens': 0, 'reasoning_tokens': 0, 'rejected_prediction_tokens': 0}, 'prompt_tokens_details': {'audio_tokens': 0, 'cached_tokens': 0}}, 'model_name': 'gpt-3.5-turbo-0125', 'system_fingerprint': None, 'id': 'chatcmpl-BbOjdE66XLU6EtwHg23VcEPnUeNjB', 'service_tier': 'default', 'finish_reason': 'stop', 'logprobs': None}, id='run--e2311c41-da99-48b2-b6f3-e3c3fcde4379-0', usage_metadata={'input_tokens': 25, 'output_tokens': 10, 'total_tokens': 35, 'input_token_details': {'audio': 0, 'cache_read': 0}, 'output_token_details': {'audio': 0, 'reasoning': 0}})"
      ]
     },
     "execution_count": 14,
     "metadata": {},
     "output_type": "execute_result"
    }
   ],
   "source": [
    "chatModel.invoke(formatted_prompt)"
   ]
  },
  {
   "cell_type": "code",
   "execution_count": 15,
   "metadata": {},
   "outputs": [],
   "source": [
    "from langchain_core.prompts import ChatPromptTemplate\n",
    "\n",
    "\n",
    "chat_template= ChatPromptTemplate.from_messages(\n",
    "        [\n",
    "        (\"system\", \"You are an {profession} expert on {topic}.\"),\n",
    "        (\"human\", \"Hello, Mr. {profession}, can you please answer a question?\"),\n",
    "        (\"ai\", \"Sure!\"),\n",
    "        (\"human\", \"{user_input}\"),\n",
    "    ]\n",
    ")\n",
    "\n",
    "messages = chat_template.format_messages(\n",
    "    profession=\"director do a moview\",\n",
    "    topic=\"funny movie \",\n",
    "    user_input=\"give some name of funny bollywood movie\"\n",
    ")\n"
   ]
  },
  {
   "cell_type": "code",
   "execution_count": 16,
   "metadata": {},
   "outputs": [
    {
     "name": "stdout",
     "output_type": "stream",
     "text": [
      "Of course! Here are some funny Bollywood movies:\n",
      "\n",
      "1. \"Andaz Apna Apna\"\n",
      "2. \"Hera Pheri\"\n",
      "3. \"3 Idiots\"\n",
      "4. \"Dhamaal\"\n",
      "5. \"Welcome\"\n",
      "6. \"Golmaal: Fun Unlimited\"\n",
      "7. \"Munna Bhai M.B.B.S.\"\n",
      "8. \"Chup Chup Ke\"\n",
      "9. \"Hungama\"\n",
      "10. \"Phir Hera Pheri\"\n",
      "\n",
      "I hope you enjoy watching these hilarious movies!\n"
     ]
    }
   ],
   "source": [
    "response= chatModel.invoke(messages)\n",
    "print(response.content)"
   ]
  },
  {
   "cell_type": "code",
   "execution_count": 17,
   "metadata": {},
   "outputs": [],
   "source": [
    "from langchain_core.prompts import FewShotChatMessagePromptTemplate\n",
    "\n",
    "from langchain_core.prompts import (\n",
    "    FewShotChatMessagePromptTemplate,\n",
    "    ChatPromptTemplate\n",
    ")"
   ]
  },
  {
   "cell_type": "code",
   "execution_count": 18,
   "metadata": {},
   "outputs": [],
   "source": [
    "examples = [\n",
    "    {\"input\": \"hi!\", \"output\": \"¡hola!\"},\n",
    "    {\"input\": \"bye!\", \"output\": \"¡adiós!\"},\n",
    "]\n",
    "\n",
    "example_prompt = ChatPromptTemplate.from_messages(\n",
    "    [\n",
    "        (\"human\", \"{input}\"),\n",
    "        (\"ai\", \"{output}\"),\n",
    "    ]\n",
    ")"
   ]
  },
  {
   "cell_type": "code",
   "execution_count": 19,
   "metadata": {},
   "outputs": [],
   "source": [
    "\n",
    "few_shot_prompt= FewShotChatMessagePromptTemplate(\n",
    "    examples=examples,\n",
    "    example_prompt=example_prompt,\n",
    ")"
   ]
  },
  {
   "cell_type": "code",
   "execution_count": 20,
   "metadata": {},
   "outputs": [],
   "source": [
    "final_prompt = ChatPromptTemplate.from_messages(\n",
    "    [\n",
    "        (\"system\", \"You are an English-Spanish translator.\"),\n",
    "        few_shot_prompt,\n",
    "        (\"human\", \"{input}\"),\n",
    "    ]\n",
    "\n",
    ")\n",
    "\n",
    "input_text = \"Translate 'I am learning programming\"\n",
    "\n",
    "formatted_prompt = final_prompt.format(input=input_text)"
   ]
  },
  {
   "cell_type": "code",
   "execution_count": 21,
   "metadata": {},
   "outputs": [
    {
     "name": "stdout",
     "output_type": "stream",
     "text": [
      "System: You are an English-Spanish translator.\n",
      "Human: hi!\n",
      "AI: ¡hola!\n",
      "Human: bye!\n",
      "AI: ¡adiós!\n",
      "Human: Translate 'I am learning programming\n"
     ]
    }
   ],
   "source": [
    "print(formatted_prompt)"
   ]
  },
  {
   "cell_type": "code",
   "execution_count": 22,
   "metadata": {},
   "outputs": [
    {
     "name": "stdout",
     "output_type": "stream",
     "text": [
      "AI: Estoy aprendiendo programación.\n"
     ]
    }
   ],
   "source": [
    "response= chatModel.invoke(formatted_prompt)\n",
    "print(response.content)"
   ]
  },
  {
   "cell_type": "code",
   "execution_count": 23,
   "metadata": {},
   "outputs": [],
   "source": [
    "\n",
    "examples = [\n",
    "    {\"input\": \"2+2\", \"output\": \"4\"},\n",
    "    {\"input\": \"2+3\", \"output\": \"5\"},\n",
    "    {\"input\": \"What is the capital of France?\", \"output\": \"Paris\"},\n",
    "    {\"input\": \"3*3\", \"output\": \"9\"},\n",
    "    {\"input\": \"Who wrote 'To Kill a Mockingbird'?\", \"output\": \"Harper Lee\"},\n",
    "    {\"input\": \"What is 10-4?\", \"output\": \"6\"},\n",
    "    {\"input\": \"5/5\", \"output\": \"1\"},\n",
    "    {\"input\": \"What is the largest planet in the solar system?\", \"output\": \"Jupiter\"}\n",
    "]\n",
    "\n"
   ]
  }
 ],
 "metadata": {
  "kernelspec": {
   "display_name": "langchain-env",
   "language": "python",
   "name": "python3"
  },
  "language_info": {
   "codemirror_mode": {
    "name": "ipython",
    "version": 3
   },
   "file_extension": ".py",
   "mimetype": "text/x-python",
   "name": "python",
   "nbconvert_exporter": "python",
   "pygments_lexer": "ipython3",
   "version": "3.11.11"
  }
 },
 "nbformat": 4,
 "nbformat_minor": 2
}
