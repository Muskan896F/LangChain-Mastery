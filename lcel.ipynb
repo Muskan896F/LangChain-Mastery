{
 "cells": [
  {
   "cell_type": "code",
   "execution_count": 1,
   "metadata": {},
   "outputs": [],
   "source": [
    "import os\n",
    "from dotenv import load_dotenv\n",
    "load_dotenv()\n",
    "openai_api_key = os.getenv(\"OPENAI_API_KEY\")"
   ]
  },
  {
   "cell_type": "code",
   "execution_count": 2,
   "metadata": {},
   "outputs": [],
   "source": [
    "from langchain_openai import ChatOpenAI\n",
    "from langchain.prompts import ChatPromptTemplate\n",
    "from langchain.schema import StrOutputParser"
   ]
  },
  {
   "cell_type": "code",
   "execution_count": 3,
   "metadata": {},
   "outputs": [
    {
     "name": "stdout",
     "output_type": "stream",
     "text": [
      "The history of the internet dates back to the 1960s when the U.S. Department of Defense created ARPANET, a project that connected computers at various universities and research labs. In the 1970s, the concept of email was developed and the TCP/IP protocols, which serve as the backbone of the internet communication, were created. The 1980s saw the development of the Domain Name System (DNS) and the birth of the World Wide Web by Tim Berners-Lee in 1989. The 1990s marked the commercialization of the internet with the launch of web browsers like Netscape Navigator and Internet Explorer. The internet has since grown exponentially, becoming an integral part of everyday life, business, and government operations.\n"
     ]
    }
   ],
   "source": [
    "llm = ChatOpenAI(temperature=0.0, model=\"gpt-4\") \n",
    "\n",
    "prompt = ChatPromptTemplate.from_template(\"Write a short summary about {topic}.\")\n",
    "\n",
    "\n",
    "chain = prompt | llm | StrOutputParser()\n",
    "result = chain.invoke({\"topic\": \"the history of the internet\"})\n",
    "print(result)"
   ]
  },
  {
   "cell_type": "code",
   "execution_count": 4,
   "metadata": {},
   "outputs": [],
   "source": [
    "# modification \n",
    "from langchain_openai import ChatOpenAI\n",
    "from langchain.prompts import ChatPromptTemplate, MessagesPlaceholder\n",
    "from langchain.schema import StrOutputParser\n",
    "llm = ChatOpenAI(temperature=0.0, model=\"gpt-4\") \n"
   ]
  },
  {
   "cell_type": "code",
   "execution_count": 5,
   "metadata": {},
   "outputs": [],
   "source": [
    "prompt = ChatPromptTemplate.from_messages([\n",
    "    (\"system\", \"You are a helpful assistant.\"),\n",
    "    MessagesPlaceholder(variable_name=\"chat_history\"),\n",
    "    (\"human\", \"{input}\")\n",
    "])\n",
    "\n",
    "\n",
    "chain = ({  \n",
    "        \n",
    "        \"chat_history\": lambda x: x.get(\"chat_history\", []),\n",
    "        \"input\": lambda x: x[\"input\"]\n",
    "}\n",
    "| prompt | llm | StrOutputParser() \n",
    ")\n",
    "\n",
    "\n",
    "chat_history =[\n",
    "    (\"system\", \"You are a helpful assistant.\"),\n",
    "    (\"human\", \"What is the capital of France?\"),\n",
    "    (\"assistant\", \"The capital of France is Paris.\"),\n",
    "    (\"human\", \"What is the capital of Germany?\"),\n",
    "    (\"assistant\", \"The capital of Germany is Berlin.\")\n",
    "    \n",
    "]\n",
    "\n",
    "result = chain.invoke({\"input\": \"What is the capital of India?\", \"chat_history\": chat_history})\n"
   ]
  },
  {
   "cell_type": "code",
   "execution_count": 6,
   "metadata": {},
   "outputs": [
    {
     "name": "stdout",
     "output_type": "stream",
     "text": [
      "The capital of India is New Delhi.\n"
     ]
    }
   ],
   "source": [
    "print(result)"
   ]
  },
  {
   "cell_type": "code",
   "execution_count": 7,
   "metadata": {},
   "outputs": [],
   "source": [
    "from langchain_openai import ChatOpenAI\n",
    "from langchain.prompts import ChatPromptTemplate\n",
    "from langchain.schema import StrOutputParser\n",
    "from langchain_core.runnables import RunnableLambda\n",
    "\n",
    "\n",
    "llm = ChatOpenAI()"
   ]
  },
  {
   "cell_type": "code",
   "execution_count": 8,
   "metadata": {},
   "outputs": [],
   "source": [
    "summary_chain=( ChatPromptTemplate.from_template(\"Write a short summary about {text}.\") | llm | StrOutputParser()\n",
    ")\n",
    "\n",
    "analysis_chain = (ChatPromptTemplate.from_template(\"Analyze the summary: {text}.\") | llm | StrOutputParser())\n",
    "\n",
    "\n",
    "# parellel LCEL \n",
    "combined_chain = {\n",
    "    \"summary\": summary_chain,\n",
    "    \"analysis\": analysis_chain\n",
    "} | RunnableLambda(\n",
    "    lambda x: {\n",
    "        \"summary\": x[\"summary\"],\n",
    "        \"analysis\": x[\"analysis\"]\n",
    "    }\n",
    ")\n",
    "\n",
    "\n",
    "comined_chain1 = combined_chain.invoke({\"text\": \"the history of the internet\"})"
   ]
  },
  {
   "cell_type": "code",
   "execution_count": 9,
   "metadata": {},
   "outputs": [
    {
     "name": "stdout",
     "output_type": "stream",
     "text": [
      "{'summary': 'The history of the internet can be traced back to the 1960s, when researchers developed ARPANET, a network that connected computers at research institutions. This eventually evolved into the modern internet we know today. In the 1980s, the development of TCP/IP protocols standardized communications across different networks, leading to the creation of the World Wide Web in the early 1990s. The internet continued to expand rapidly, with the advent of email, search engines, online commerce, and social media platforms. Today, the internet is an essential part of modern life, connecting people around the world and transforming how information is shared and accessed.', 'analysis': 'The summary provides an overview of the history of the internet, detailing its origins, development, and growth over the years. It likely covers key milestones such as the creation of ARPANET, the development of the World Wide Web, and the expansion of internet access to the general public. The summary may also highlight the significant impact that the internet has had on communication, information sharing, and global connectivity. Overall, the summary serves as a concise and informative overview of the evolution of the internet.'}\n"
     ]
    }
   ],
   "source": [
    "print(comined_chain1)"
   ]
  },
  {
   "cell_type": "code",
   "execution_count": 10,
   "metadata": {},
   "outputs": [],
   "source": [
    "from langchain.prompts import PromptTemplate\n",
    "from langchain_openai import ChatOpenAI\n",
    "from langchain_core.output_parsers import StrOutputParser\n",
    "from langchain_core.runnables import (\n",
    "    RunnableLambda,\n",
    "    RunnablePassthrough,\n",
    "    RunnableMap,\n",
    "    RunnableBranch,\n",
    "    RunnableParallel\n",
    ")"
   ]
  },
  {
   "cell_type": "code",
   "execution_count": 11,
   "metadata": {},
   "outputs": [],
   "source": [
    "prompt = PromptTemplate.from_template(\"Write a short tweet about {topic}.\")\n"
   ]
  },
  {
   "cell_type": "code",
   "execution_count": 12,
   "metadata": {},
   "outputs": [],
   "source": [
    "llm = ChatOpenAI(model=\"gpt-3.5-turbo\", temperature=0.7)\n",
    "parser = StrOutputParser()"
   ]
  },
  {
   "cell_type": "code",
   "execution_count": 13,
   "metadata": {},
   "outputs": [],
   "source": [
    "add_suffix = RunnableLambda(lambda x: {\"topic\": x[\"topic\"] + \" for developers\"})\n",
    "passthrough = RunnablePassthrough()\n"
   ]
  },
  {
   "cell_type": "code",
   "execution_count": 14,
   "metadata": {},
   "outputs": [],
   "source": [
    "multi_topic_map = RunnableMap({\n",
    "    \"ai\": RunnableLambda(lambda _: {\"topic\": \"AI\"}),\n",
    "    \"ml\": RunnableLambda(lambda _: {\"topic\": \"ML\"}),\n",
    "    \"cv\": RunnableLambda(lambda _: {\"topic\": \"Computer Vision\"})\n",
    "})\n"
   ]
  },
  {
   "cell_type": "code",
   "execution_count": 15,
   "metadata": {},
   "outputs": [],
   "source": [
    "full_chain = (\n",
    "    add_suffix |\n",
    "    passthrough |\n",
    "    prompt |\n",
    "    llm |\n",
    "    parser\n",
    ")"
   ]
  },
  {
   "cell_type": "code",
   "execution_count": 16,
   "metadata": {},
   "outputs": [
    {
     "data": {
      "text/plain": [
       "'\"Python is a versatile and powerful programming language that makes development easy and enjoyable. #Python #developers\"'"
      ]
     },
     "execution_count": 16,
     "metadata": {},
     "output_type": "execute_result"
    }
   ],
   "source": [
    "full_chain.invoke({\"topic\": \"Python\"})"
   ]
  },
  {
   "cell_type": "code",
   "execution_count": 17,
   "metadata": {},
   "outputs": [
    {
     "name": "stdout",
     "output_type": "stream",
     "text": [
      "The End\n"
     ]
    }
   ],
   "source": [
    "print(\"The End\")"
   ]
  }
 ],
 "metadata": {
  "kernelspec": {
   "display_name": "Python 3",
   "language": "python",
   "name": "python3"
  },
  "language_info": {
   "codemirror_mode": {
    "name": "ipython",
    "version": 3
   },
   "file_extension": ".py",
   "mimetype": "text/x-python",
   "name": "python",
   "nbconvert_exporter": "python",
   "pygments_lexer": "ipython3",
   "version": "3.11.0"
  }
 },
 "nbformat": 4,
 "nbformat_minor": 2
}
