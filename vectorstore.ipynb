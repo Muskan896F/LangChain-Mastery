{
 "cells": [
  {
   "cell_type": "code",
   "execution_count": 38,
   "id": "0111b76e",
   "metadata": {},
   "outputs": [],
   "source": [
    "import os\n",
    "from dotenv import load_dotenv, find_dotenv\n",
    "_ = load_dotenv(find_dotenv())\n",
    "openai_api_key = os.getenv(\"OPENAI_API_KEY\")"
   ]
  },
  {
   "cell_type": "markdown",
   "id": "ee1bccd4",
   "metadata": {},
   "source": [
    "### **FAISS**"
   ]
  },
  {
   "cell_type": "code",
   "execution_count": 39,
   "id": "18d852fe",
   "metadata": {},
   "outputs": [],
   "source": [
    "from langchain_openai import ChatOpenAI\n",
    "llm = ChatOpenAI(temperature=0.7)"
   ]
  },
  {
   "cell_type": "code",
   "execution_count": 40,
   "id": "509fac71",
   "metadata": {},
   "outputs": [],
   "source": [
    "from langchain.schema import Document\n",
    "from langchain.vectorstores import  FAISS\n",
    "from langchain_openai import OpenAIEmbeddings"
   ]
  },
  {
   "cell_type": "code",
   "execution_count": 41,
   "id": "4ae7abe7",
   "metadata": {},
   "outputs": [],
   "source": [
    "docs = [\n",
    "    Document(page_content=\"LangChain enables LLM-powered applications.\"),\n",
    "    Document(page_content=\"FAISS is used for efficient vector search.\"),\n",
    "    Document(page_content=\"Embeddings are numeric representations of text.\")\n",
    "]\n"
   ]
  },
  {
   "cell_type": "code",
   "execution_count": 42,
   "metadata": {},
   "outputs": [],
   "source": [
    "embeddings = OpenAIEmbeddings()\n",
    "vectorstore = FAISS.from_documents(docs, embeddings)"
   ]
  },
  {
   "cell_type": "code",
   "execution_count": 43,
   "metadata": {},
   "outputs": [],
   "source": [
    "retriever = vectorstore.as_retriever()\n",
    "result = retriever.get_relevant_documents(\"What is LangChain?\")"
   ]
  },
  {
   "cell_type": "code",
   "execution_count": 44,
   "id": "2d52df1b",
   "metadata": {},
   "outputs": [
    {
     "name": "stdout",
     "output_type": "stream",
     "text": [
      "LangChain enables LLM-powered applications.\n"
     ]
    }
   ],
   "source": [
    "print(result[0].page_content)"
   ]
  },
  {
   "cell_type": "markdown",
   "id": "f5b3b671",
   "metadata": {},
   "source": [
    "### **Chroma**"
   ]
  },
  {
   "cell_type": "code",
   "execution_count": 45,
   "metadata": {},
   "outputs": [],
   "source": [
    "from langchain.schema import Document\n",
    "from langchain.vectorstores import Chroma\n",
    "from langchain_openai import OpenAIEmbeddings"
   ]
  },
  {
   "cell_type": "code",
   "execution_count": 46,
   "id": "cb6c0706",
   "metadata": {},
   "outputs": [],
   "source": [
    "docs = [\n",
    "    Document(page_content=\"Chroma is a vector DB built for LLM RAG systems.\"),\n",
    "    Document(page_content=\"You can persist Chroma to disk for reuse.\"),\n",
    "]"
   ]
  },
  {
   "cell_type": "code",
   "execution_count": 47,
   "id": "57d187f6",
   "metadata": {},
   "outputs": [],
   "source": [
    "embeddings = OpenAIEmbeddings()"
   ]
  },
  {
   "cell_type": "code",
   "execution_count": 48,
   "id": "530695f5",
   "metadata": {},
   "outputs": [
    {
     "name": "stderr",
     "output_type": "stream",
     "text": [
      "c:\\Users\\HP\\LangChain-Mastery\\LANGCHAIN\\Lib\\site-packages\\chromadb\\api\\models\\CollectionCommon.py:158: DeprecationWarning: legacy embedding function config\n",
      "  return load_collection_configuration_from_json(self._model.configuration_json)\n"
     ]
    }
   ],
   "source": [
    "vectorstore = Chroma.from_documents(docs,embeddings,persist_directory=\"chroma_db\")"
   ]
  },
  {
   "cell_type": "code",
   "execution_count": 49,
   "id": "5332e131",
   "metadata": {},
   "outputs": [],
   "source": [
    "retriever = vectorstore.as_retriever()\n",
    "result = retriever.get_relevant_documents(\"What is chroma?\")"
   ]
  },
  {
   "cell_type": "code",
   "execution_count": 50,
   "id": "fd1ee58e",
   "metadata": {},
   "outputs": [
    {
     "name": "stdout",
     "output_type": "stream",
     "text": [
      "Chroma is a vector DB built for LLM RAG systems.\n"
     ]
    }
   ],
   "source": [
    "print(result[0].page_content)"
   ]
  },
  {
   "cell_type": "markdown",
   "id": "a26f4df7",
   "metadata": {},
   "source": [
    "### **Weaviate**"
   ]
  },
  {
   "cell_type": "code",
   "execution_count": 51,
   "id": "053a1dc6",
   "metadata": {},
   "outputs": [],
   "source": [
    "import os\n",
    "import weaviate\n",
    "from dotenv import load_dotenv\n",
    "from weaviate.auth import AuthApiKey\n",
    "from langchain_community.vectorstores import Weaviate as LangchainWeaviate\n",
    "from langchain_openai import OpenAIEmbeddings\n",
    "from langchain_core.documents import Document"
   ]
  },
  {
   "cell_type": "code",
   "execution_count": 52,
   "id": "794e0f95",
   "metadata": {},
   "outputs": [],
   "source": [
    "load_dotenv()\n",
    "weaviate_url = os.getenv(\"WEAVIATE_URL\")\n",
    "weaviate_api_key = os.getenv(\"WEAVIATE_API_KEY\")\n",
    "openai_api_key = os.getenv(\"OPENAI_API_KEY\")"
   ]
  },
  {
   "cell_type": "code",
   "execution_count": 54,
   "id": "357a194a",
   "metadata": {},
   "outputs": [
    {
     "name": "stdout",
     "output_type": "stream",
     "text": [
      "The End\n"
     ]
    }
   ],
   "source": [
    "print(\"The End\")"
   ]
  }
 ],
 "metadata": {
  "kernelspec": {
   "display_name": "Python 3",
   "language": "python",
   "name": "python3"
  },
  "language_info": {
   "codemirror_mode": {
    "name": "ipython",
    "version": 3
   },
   "file_extension": ".py",
   "mimetype": "text/x-python",
   "name": "python",
   "nbconvert_exporter": "python",
   "pygments_lexer": "ipython3",
   "version": "3.11.0"
  }
 },
 "nbformat": 4,
 "nbformat_minor": 5
}
