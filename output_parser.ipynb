{
 "cells": [
  {
   "cell_type": "code",
   "execution_count": 1,
   "id": "4291fcbe",
   "metadata": {},
   "outputs": [],
   "source": [
    "import os\n",
    "from dotenv import load_dotenv, find_dotenv\n",
    "_ = load_dotenv(find_dotenv())\n",
    "openai_api_key = os.getenv(\"OPENAI_API_KEY\")"
   ]
  },
  {
   "cell_type": "code",
   "execution_count": 2,
   "id": "ea7ad6fa",
   "metadata": {},
   "outputs": [],
   "source": [
    "from langchain_openai import ChatOpenAI\n",
    "llm = ChatOpenAI(temperature=0.7)"
   ]
  },
  {
   "cell_type": "code",
   "execution_count": 4,
   "id": "a1b18a81",
   "metadata": {},
   "outputs": [],
   "source": [
    "from langchain.prompts import ChatPromptTemplate\n",
    "prompt = ChatPromptTemplate.from_template(\"Give a user profile with name, age, and city.\")\n",
    "chain = prompt | llm\n",
    "response = chain.invoke({})"
   ]
  },
  {
   "cell_type": "code",
   "execution_count": 5,
   "id": "49ea4a34",
   "metadata": {},
   "outputs": [
    {
     "name": "stdout",
     "output_type": "stream",
     "text": [
      "Name: Sarah Johnson\n",
      "Age: 28\n",
      "City: New York City\n"
     ]
    }
   ],
   "source": [
    "print(response.content)"
   ]
  },
  {
   "cell_type": "markdown",
   "id": "c9b50c87",
   "metadata": {},
   "source": [
    "### Str output parser"
   ]
  },
  {
   "cell_type": "code",
   "execution_count": 6,
   "id": "84881ebc",
   "metadata": {},
   "outputs": [],
   "source": [
    "from langchain_core.output_parsers import StrOutputParser"
   ]
  },
  {
   "cell_type": "code",
   "execution_count": 7,
   "id": "9bb4eeb0",
   "metadata": {},
   "outputs": [],
   "source": [
    "from langchain.chat_models import ChatOpenAI\n",
    "from langchain.prompts import ChatPromptTemplate"
   ]
  },
  {
   "cell_type": "code",
   "execution_count": 8,
   "id": "bd5f902f",
   "metadata": {},
   "outputs": [
    {
     "name": "stderr",
     "output_type": "stream",
     "text": [
      "C:\\Users\\HP\\AppData\\Local\\Temp\\ipykernel_18700\\1060472456.py:1: LangChainDeprecationWarning: The class `ChatOpenAI` was deprecated in LangChain 0.0.10 and will be removed in 1.0. An updated version of the class exists in the :class:`~langchain-openai package and should be used instead. To use it run `pip install -U :class:`~langchain-openai` and import as `from :class:`~langchain_openai import ChatOpenAI``.\n",
      "  llm = ChatOpenAI(temperature=0.7)\n"
     ]
    }
   ],
   "source": [
    "llm = ChatOpenAI(temperature=0.7)"
   ]
  },
  {
   "cell_type": "code",
   "execution_count": 9,
   "id": "e24a39f4",
   "metadata": {},
   "outputs": [],
   "source": [
    "prompt = ChatPromptTemplate.from_template(\"What is the capital of {country}?\")"
   ]
  },
  {
   "cell_type": "code",
   "execution_count": 10,
   "id": "1bdf9f53",
   "metadata": {},
   "outputs": [],
   "source": [
    "chain = prompt | llm | StrOutputParser()"
   ]
  },
  {
   "cell_type": "code",
   "execution_count": 11,
   "id": "56fa2ff4",
   "metadata": {},
   "outputs": [
    {
     "name": "stdout",
     "output_type": "stream",
     "text": [
      "The capital of India is New Delhi.\n"
     ]
    }
   ],
   "source": [
    "print(chain.invoke({\"country\": \"India\"}))"
   ]
  },
  {
   "cell_type": "code",
   "execution_count": 12,
   "id": "f6c7794b",
   "metadata": {},
   "outputs": [
    {
     "name": "stdout",
     "output_type": "stream",
     "text": [
      "Why was the cat sitting on the computer?\n",
      "\n",
      "Because it wanted to keep an eye on the mouse!\n"
     ]
    }
   ],
   "source": [
    "prompt = ChatPromptTemplate.from_template(\"Tell me a joke about {topic}.\")\n",
    "chain = prompt | llm | StrOutputParser()\n",
    "print(chain.invoke({\"topic\": \"cats\"}))"
   ]
  },
  {
   "cell_type": "markdown",
   "id": "1219d339",
   "metadata": {},
   "source": [
    "### Json output parser"
   ]
  },
  {
   "cell_type": "code",
   "execution_count": 13,
   "id": "afb5e4c6",
   "metadata": {},
   "outputs": [],
   "source": [
    "from langchain_openai import ChatOpenAI\n",
    "from langchain_core.prompts import ChatPromptTemplate\n",
    "from langchain_core.output_parsers import JsonOutputParser"
   ]
  },
  {
   "cell_type": "code",
   "execution_count": 17,
   "id": "b3a6b476",
   "metadata": {},
   "outputs": [],
   "source": [
    "model = ChatOpenAI(model=\"gpt-3.5-turbo\")\n",
    "parser = JsonOutputParser()\n",
    "format_instructions = parser.get_format_instructions()"
   ]
  },
  {
   "cell_type": "code",
   "execution_count": 22,
   "id": "8c532b8e",
   "metadata": {},
   "outputs": [],
   "source": [
    "prompt_template = ChatPromptTemplate.from_template(\n",
    "    \"\"\"Extract the country and capital from the following text about a country.\n",
    "    Text: {country_info}\n",
    "    {format_instructions}\"\"\"\n",
    ")"
   ]
  },
  {
   "cell_type": "code",
   "execution_count": 23,
   "id": "61539c2f",
   "metadata": {},
   "outputs": [],
   "source": [
    "prompt = prompt_template.partial(format_instructions=format_instructions)\n",
    "chain = prompt | model | parser\n",
    "country_info = \"India is a country in south Asia. Its capital is New Delhi.\"\n",
    "response = chain.invoke({\"country_info\": country_info})"
   ]
  },
  {
   "cell_type": "code",
   "execution_count": 24,
   "id": "aaf56e96",
   "metadata": {},
   "outputs": [
    {
     "name": "stdout",
     "output_type": "stream",
     "text": [
      "{'country': 'India', 'capital': 'New Delhi'}\n"
     ]
    }
   ],
   "source": [
    "print(response)"
   ]
  },
  {
   "cell_type": "code",
   "execution_count": 25,
   "id": "cf695c03",
   "metadata": {},
   "outputs": [
    {
     "name": "stdout",
     "output_type": "stream",
     "text": [
      "{'name': 'Alice', 'age': 30}\n"
     ]
    }
   ],
   "source": [
    "from langchain_core.output_parsers import JsonOutputParser\n",
    "from langchain.chat_models import ChatOpenAI\n",
    "from langchain.prompts import ChatPromptTemplate\n",
    "\n",
    "parser = JsonOutputParser()\n",
    "prompt = ChatPromptTemplate.from_template(\n",
    "    \"Give a JSON with name and age.\\n{format_instructions}\",\n",
    ").partial(format_instructions=parser.get_format_instructions())\n",
    "\n",
    "llm = ChatOpenAI()\n",
    "chain = prompt | llm | parser\n",
    "\n",
    "print(chain.invoke({}))"
   ]
  },
  {
   "cell_type": "markdown",
   "id": "ca4a4361",
   "metadata": {},
   "source": [
    "### Structured Output Parser"
   ]
  },
  {
   "cell_type": "code",
   "execution_count": 28,
   "id": "90a9d64d",
   "metadata": {},
   "outputs": [],
   "source": [
    "from langchain_openai import ChatOpenAI\n",
    "from langchain_core.prompts import ChatPromptTemplate\n",
    "from langchain.output_parsers import StructuredOutputParser, ResponseSchema"
   ]
  },
  {
   "cell_type": "code",
   "execution_count": 29,
   "id": "00e113ee",
   "metadata": {},
   "outputs": [],
   "source": [
    "model = ChatOpenAI(temperature=0.7)"
   ]
  },
  {
   "cell_type": "code",
   "execution_count": 31,
   "id": "1d0bd194",
   "metadata": {},
   "outputs": [],
   "source": [
    "response_schemas = [  \n",
    "    ResponseSchema(name=\"name\", description=\"The name of the person\"),\n",
    "    ResponseSchema(name=\"age\", description=\"The age of the person\"),\n",
    "    ResponseSchema(name=\"city\", description=\"The city of the person\"),\n",
    "]\n",
    "parser = StructuredOutputParser.from_response_schemas(response_schemas)\n",
    "\n",
    "format_instructions = parser.get_format_instructions()\n",
    "\n",
    "\n",
    "prompt_template = ChatPromptTemplate.from_template(\n",
    "    \"\"\"Extract information about the person described below.\n",
    "    Description: {person_description}\n",
    "    {format_instructions}\"\"\"\n",
    ")\n",
    "\n",
    "\n",
    "prompt = prompt_template.partial(format_instructions=format_instructions)"
   ]
  },
  {
   "cell_type": "code",
   "execution_count": 32,
   "id": "192b960a",
   "metadata": {},
   "outputs": [
    {
     "name": "stdout",
     "output_type": "stream",
     "text": [
      "{'name': 'Muskan', 'age': '25-30', 'city': 'India'}\n"
     ]
    }
   ],
   "source": [
    "chain = prompt | model | parser \n",
    "person_descripton = \"Muskan is a 25- 30 year olde data scientist from india\"\n",
    "response = chain.invoke({\"person_description\": person_descripton})\n",
    "print(response)"
   ]
  },
  {
   "cell_type": "markdown",
   "id": "6bbd2027",
   "metadata": {},
   "source": [
    "## Pydantic Output Parser"
   ]
  },
  {
   "cell_type": "code",
   "execution_count": 33,
   "id": "b0183610",
   "metadata": {},
   "outputs": [],
   "source": [
    "from langchain_openai import ChatOpenAI\n",
    "from langchain_core.prompts import ChatPromptTemplate\n",
    "from langchain.output_parsers import PydanticOutputParser"
   ]
  },
  {
   "cell_type": "code",
   "execution_count": 34,
   "id": "6dcd8ba3",
   "metadata": {},
   "outputs": [],
   "source": [
    "from pydantic import BaseModel, Field\n",
    "from typing import List, Optional"
   ]
  },
  {
   "cell_type": "code",
   "execution_count": 41,
   "id": "1e342bb7",
   "metadata": {},
   "outputs": [],
   "source": [
    "class Product(BaseModel):\n",
    "    name : str = Field(description=\"The name of the product\")\n",
    "    price : float = Field(description=\"The price of the product\")\n",
    "\n",
    "parser = PydanticOutputParser(pydantic_object=Product, format_instructions=\"Return a JSON with name and price of the product\")"
   ]
  },
  {
   "cell_type": "code",
   "execution_count": 42,
   "id": "8095e3b1",
   "metadata": {},
   "outputs": [],
   "source": [
    "prompt = ChatPromptTemplate.from_template(\n",
    "    \"Provide product details in JSON.\\n{format_instructions}\"\n",
    ").partial(format_instructions=parser.get_format_instructions())"
   ]
  },
  {
   "cell_type": "code",
   "execution_count": 43,
   "id": "cab3fafc",
   "metadata": {},
   "outputs": [],
   "source": [
    "llm =ChatOpenAI()\n",
    "chain = prompt | llm | parser"
   ]
  },
  {
   "cell_type": "code",
   "execution_count": 44,
   "id": "bcee2143",
   "metadata": {},
   "outputs": [
    {
     "name": "stdout",
     "output_type": "stream",
     "text": [
      "name='Smartphone' price=799.99\n"
     ]
    }
   ],
   "source": [
    "print(chain.invoke({}))"
   ]
  },
  {
   "cell_type": "code",
   "execution_count": 45,
   "id": "e510d207",
   "metadata": {},
   "outputs": [],
   "source": [
    "from langchain.prompts import PromptTemplate\n",
    "from langchain.chains import LLMChain\n",
    "from langchain.chat_models import ChatOpenAI\n",
    "from pydantic import BaseModel\n",
    "\n",
    "class WeatherInfo(BaseModel):\n",
    "    city: str\n",
    "    temperature: float\n",
    "    condition: str \n",
    "\n",
    "\n",
    "parser = PydanticOutputParser(pydantic_object=WeatherInfo)\n",
    "\n",
    "\n",
    "\n",
    "\n",
    "prompt = PromptTemplate(\n",
    "    template=\"Provide current weather info.\\n{format_instructions}\\nCity: {city}\",\n",
    "    input_variables=[\"city\"],\n",
    "    partial_variables={\"format_instructions\": parser.get_format_instructions()}\n",
    ")\n",
    "\n",
    "\n",
    "llm = ChatOpenAI(temperature=0.3, model=\"gpt-3.5-turbo\")\n",
    "\n",
    "\n",
    "chain = LLMChain(\n",
    "    llm=llm,\n",
    "    prompt=prompt,\n",
    " \n",
    ")\n"
   ]
  },
  {
   "cell_type": "code",
   "execution_count": 46,
   "id": "6ff9946f",
   "metadata": {},
   "outputs": [
    {
     "name": "stderr",
     "output_type": "stream",
     "text": [
      "C:\\Users\\HP\\AppData\\Local\\Temp\\ipykernel_18700\\839694582.py:3: LangChainDeprecationWarning: The method `Chain.run` was deprecated in langchain 0.1.0 and will be removed in 1.0. Use :meth:`~invoke` instead.\n",
      "  raw_input= chain.run({\"city\": city_input})\n"
     ]
    },
    {
     "name": "stdout",
     "output_type": "stream",
     "text": [
      "{\n",
      "  \"city\": \"Bangalore\",\n",
      "  \"temperature\": 28,\n",
      "  \"condition\": \"Partly Cloudy\"\n",
      "}\n",
      "city='Bangalore' temperature=28.0 condition='Partly Cloudy'\n"
     ]
    }
   ],
   "source": [
    "city_input = \"Bangalore\"\n",
    "\n",
    "raw_input= chain.run({\"city\": city_input})\n",
    "print(raw_input)\n",
    "print(parser.parse(raw_input))"
   ]
  },
  {
   "cell_type": "markdown",
   "id": "0dd7ff0a",
   "metadata": {},
   "source": [
    "## Enum"
   ]
  },
  {
   "cell_type": "code",
   "execution_count": 47,
   "id": "fca1ce7a",
   "metadata": {},
   "outputs": [],
   "source": [
    "from langchain.output_parsers import EnumOutputParser\n",
    "from langchain.prompts import PromptTemplate\n",
    "from langchain_openai import ChatOpenAI\n",
    "from enum import Enum"
   ]
  },
  {
   "cell_type": "code",
   "execution_count": 48,
   "id": "49880a02",
   "metadata": {},
   "outputs": [],
   "source": [
    "class Color(Enum):\n",
    "    RED = \"red\"\n",
    "    GREEN = \"green\"\n",
    "    BLUE = \"blue\"\n",
    "\n",
    "\n",
    "\n",
    "parser = EnumOutputParser(enum=Color)\n",
    "\n",
    "prompt = PromptTemplate(\n",
    "    template=\"Choose a color from red, green, or blue. Respond in lowercase only.\\n{format_instructions}\\n\",\n",
    "    input_variables=[],\n",
    "    partial_variables={\"format_instructions\": parser.get_format_instructions()}\n",
    ")\n",
    "\n",
    "model = ChatOpenAI(temperature=0)"
   ]
  },
  {
   "cell_type": "code",
   "execution_count": 49,
   "id": "67c20f9c",
   "metadata": {},
   "outputs": [
    {
     "name": "stdout",
     "output_type": "stream",
     "text": [
      "Raw Output: green\n",
      "Parsed Output: Color.GREEN\n"
     ]
    }
   ],
   "source": [
    "output = model.invoke(prompt.format())\n",
    "\n",
    "parsed = parser.parse(output.content.lower()) \n",
    "\n",
    "\n",
    "print(f\"Raw Output: {output.content}\")\n",
    "print(f\"Parsed Output: {parsed}\")"
   ]
  },
  {
   "cell_type": "code",
   "execution_count": 50,
   "id": "3cfdf659",
   "metadata": {},
   "outputs": [
    {
     "name": "stdout",
     "output_type": "stream",
     "text": [
      "2022-01-06 15:45:30\n"
     ]
    }
   ],
   "source": [
    "from langchain.output_parsers import DatetimeOutputParser\n",
    "\n",
    "parser = DatetimeOutputParser()\n",
    "prompt = PromptTemplate(\n",
    "    template=\"What is the current date and time?\\n{format_instructions}\\n\",\n",
    "    input_variables=[],\n",
    "    partial_variables={\"format_instructions\": parser.get_format_instructions()}\n",
    ")\n",
    "\n",
    "model = ChatOpenAI(temperature=0)\n",
    "output = model.invoke(prompt.format())\n",
    "parsed = parser.parse(output.content)\n",
    "print(parsed)"
   ]
  },
  {
   "cell_type": "code",
   "execution_count": 51,
   "id": "cfcd1c36",
   "metadata": {},
   "outputs": [
    {
     "name": "stdout",
     "output_type": "stream",
     "text": [
      "['apple', 'banana', 'orange']\n"
     ]
    }
   ],
   "source": [
    "from langchain.output_parsers import CommaSeparatedListOutputParser\n",
    "\n",
    "parser = CommaSeparatedListOutputParser()\n",
    "prompt = PromptTemplate(\n",
    "    template=\"List three fruits.\\n{format_instructions}\\n\",\n",
    "    input_variables=[],\n",
    "    partial_variables={\"format_instructions\": parser.get_format_instructions()}\n",
    ")\n",
    "model = ChatOpenAI(temperature=0)\n",
    "output = model.invoke(prompt.format())\n",
    "\n",
    "parsed = parser.parse(output.content)\n",
    "print(parsed)"
   ]
  },
  {
   "cell_type": "code",
   "execution_count": 52,
   "id": "fa8656ce",
   "metadata": {},
   "outputs": [
    {
     "name": "stdout",
     "output_type": "stream",
     "text": [
      "The End\n"
     ]
    }
   ],
   "source": [
    "print(\"The End\")"
   ]
  }
 ],
 "metadata": {
  "kernelspec": {
   "display_name": "Python 3",
   "language": "python",
   "name": "python3"
  },
  "language_info": {
   "codemirror_mode": {
    "name": "ipython",
    "version": 3
   },
   "file_extension": ".py",
   "mimetype": "text/x-python",
   "name": "python",
   "nbconvert_exporter": "python",
   "pygments_lexer": "ipython3",
   "version": "3.11.0"
  }
 },
 "nbformat": 4,
 "nbformat_minor": 5
}
