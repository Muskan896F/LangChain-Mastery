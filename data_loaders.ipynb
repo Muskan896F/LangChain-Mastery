{
 "cells": [
  {
   "cell_type": "code",
   "execution_count": 1,
   "id": "fadacfa9",
   "metadata": {},
   "outputs": [
    {
     "name": "stderr",
     "output_type": "stream",
     "text": [
      "USER_AGENT environment variable not set, consider setting it to identify your requests.\n"
     ]
    }
   ],
   "source": [
    "import os\n",
    "from langchain_community.document_loaders import (TextLoader,CSVLoader,WebBaseLoader,PyPDFLoader,UnstructuredHTMLLoader)"
   ]
  },
  {
   "cell_type": "code",
   "execution_count": 2,
   "id": "9883e5b7",
   "metadata": {},
   "outputs": [],
   "source": [
    "DATA_DIR = \"data\""
   ]
  },
  {
   "cell_type": "code",
   "execution_count": 3,
   "id": "e1a74417",
   "metadata": {},
   "outputs": [],
   "source": [
    "text_path = os.path.join(DATA_DIR, r\"C:\\Users\\HP\\LangChain-Mastery\\data\\ai_overview.txt\")"
   ]
  },
  {
   "cell_type": "code",
   "execution_count": 4,
   "id": "256d803c",
   "metadata": {},
   "outputs": [],
   "source": [
    "text_loader = TextLoader(text_path)\n",
    "text_docs = text_loader.load()"
   ]
  },
  {
   "cell_type": "code",
   "execution_count": 5,
   "id": "37ef772c",
   "metadata": {},
   "outputs": [
    {
     "data": {
      "text/plain": [
       "1"
      ]
     },
     "execution_count": 5,
     "metadata": {},
     "output_type": "execute_result"
    }
   ],
   "source": [
    "len(text_docs)"
   ]
  },
  {
   "cell_type": "code",
   "execution_count": 6,
   "id": "0e31abdb",
   "metadata": {},
   "outputs": [
    {
     "data": {
      "text/plain": [
       "Document(metadata={'source': 'C:\\\\Users\\\\HP\\\\LangChain-Mastery\\\\data\\\\ai_overview.txt'}, page_content='Artificial Intelligence (AI)\\n\\nArtificial Intelligence is a branch of computer science focused on building smart machines capable of performing tasks \\nthat typically require human intelligence. These tasks include problem-solving, learning, reasoning, perception, \\nand language understanding.\\n\\nKey Areas of AI:\\n1. Machine Learning (ML)\\n2. Natural Language Processing (NLP)\\n3. Computer Vision\\n4. Robotics\\n5. Expert Systems\\n\\nApplications of AI:\\n- Virtual assistants (e.g., Siri, Alexa)\\n- Autonomous vehicles\\n- Medical diagnosis\\n- Fraud detection\\n- Personalized recommendations\\n\\nAI continues to revolutionize industries and redefine the future of work and everyday life.\\n\\n')"
      ]
     },
     "execution_count": 6,
     "metadata": {},
     "output_type": "execute_result"
    }
   ],
   "source": [
    "text_docs[0]"
   ]
  },
  {
   "cell_type": "code",
   "execution_count": 7,
   "id": "060ef140",
   "metadata": {},
   "outputs": [
    {
     "data": {
      "text/plain": [
       "'Artificial Intelligence (AI)\\n\\nArtificial Intelligence is a branch of computer science focused on building smart machines capable of performing tasks \\nthat typically require human intelligence. These tasks include problem-solving, learning, reasoning, perception, \\nand language understanding.\\n\\nKey Areas of AI:\\n1. Machine Learning (ML)\\n2. Natural Language Processing (NLP)\\n3. Computer Vision\\n4. Robotics\\n5. Expert Systems\\n\\nApplications of AI:\\n- Virtual assistants (e.g., Siri, Alexa)\\n- Autonomous vehicles\\n- Medical diagnosis\\n- Fraud detection\\n- Personalized recommendations\\n\\nAI continues to revolutionize industries and redefine the future of work and everyday life.\\n\\n'"
      ]
     },
     "execution_count": 7,
     "metadata": {},
     "output_type": "execute_result"
    }
   ],
   "source": [
    "text_docs[0].page_content"
   ]
  },
  {
   "cell_type": "code",
   "execution_count": 8,
   "id": "09bb24f2",
   "metadata": {},
   "outputs": [
    {
     "data": {
      "text/plain": [
       "{'source': 'C:\\\\Users\\\\HP\\\\LangChain-Mastery\\\\data\\\\ai_overview.txt'}"
      ]
     },
     "execution_count": 8,
     "metadata": {},
     "output_type": "execute_result"
    }
   ],
   "source": [
    "text_docs[0].metadata"
   ]
  },
  {
   "cell_type": "markdown",
   "id": "7f476a36",
   "metadata": {},
   "source": [
    "### **CSV**"
   ]
  },
  {
   "cell_type": "code",
   "execution_count": 9,
   "id": "260bcbd4",
   "metadata": {},
   "outputs": [],
   "source": [
    "csv_path = os.path.join(DATA_DIR,r\"C:\\Users\\HP\\LangChain-Mastery\\data\\sample_data.csv\")"
   ]
  },
  {
   "cell_type": "code",
   "execution_count": 10,
   "id": "521793fa",
   "metadata": {},
   "outputs": [],
   "source": [
    "csv_loader = CSVLoader(csv_path)\n",
    "csv_docs = csv_loader.load()"
   ]
  },
  {
   "cell_type": "code",
   "execution_count": 11,
   "id": "20f48242",
   "metadata": {},
   "outputs": [
    {
     "data": {
      "text/plain": [
       "4"
      ]
     },
     "execution_count": 11,
     "metadata": {},
     "output_type": "execute_result"
    }
   ],
   "source": [
    "len(csv_docs)"
   ]
  },
  {
   "cell_type": "code",
   "execution_count": 12,
   "id": "5b449c69",
   "metadata": {},
   "outputs": [
    {
     "data": {
      "text/plain": [
       "'Name: Alice\\nAge: 28\\nDepartment: HR\\nSalary: 50000'"
      ]
     },
     "execution_count": 12,
     "metadata": {},
     "output_type": "execute_result"
    }
   ],
   "source": [
    "csv_docs[0].page_content"
   ]
  },
  {
   "cell_type": "code",
   "execution_count": 13,
   "id": "24b1c960",
   "metadata": {},
   "outputs": [
    {
     "data": {
      "text/plain": [
       "{'source': 'C:\\\\Users\\\\HP\\\\LangChain-Mastery\\\\data\\\\sample_data.csv', 'row': 0}"
      ]
     },
     "execution_count": 13,
     "metadata": {},
     "output_type": "execute_result"
    }
   ],
   "source": [
    "csv_docs[0].metadata"
   ]
  },
  {
   "cell_type": "markdown",
   "id": "171c845b",
   "metadata": {},
   "source": [
    "### **Web page**"
   ]
  },
  {
   "cell_type": "code",
   "execution_count": 14,
   "id": "42535304",
   "metadata": {},
   "outputs": [
    {
     "data": {
      "text/plain": [
       "{'source': 'https://lilianweng.github.io/posts/2023-06-23-agent/',\n",
       " 'title': \"LLM Powered Autonomous Agents | Lil'Log\",\n",
       " 'description': 'Building agents with LLM (large language model) as its core controller is a cool concept. Several proof-of-concepts demos, such as AutoGPT, GPT-Engineer and BabyAGI, serve as inspiring examples. The potentiality of LLM extends beyond generating well-written copies, stories, essays and programs; it can be framed as a powerful general problem solver.\\nAgent System Overview\\nIn a LLM-powered autonomous agent system, LLM functions as the agent’s brain, complemented by several key components:\\n\\nPlanning\\n\\nSubgoal and decomposition: The agent breaks down large tasks into smaller, manageable subgoals, enabling efficient handling of complex tasks.\\nReflection and refinement: The agent can do self-criticism and self-reflection over past actions, learn from mistakes and refine them for future steps, thereby improving the quality of final results.\\n\\n\\nMemory\\n\\nShort-term memory: I would consider all the in-context learning (See Prompt Engineering) as utilizing short-term memory of the model to learn.\\nLong-term memory: This provides the agent with the capability to retain and recall (infinite) information over extended periods, often by leveraging an external vector store and fast retrieval.\\n\\n\\nTool use\\n\\nThe agent learns to call external APIs for extra information that is missing from the model weights (often hard to change after pre-training), including current information, code execution capability, access to proprietary information sources and more.\\n\\n\\n\\n\\n\\t\\n\\tOverview of a LLM-powered autonomous agent system.\\n\\nComponent One: Planning\\nA complicated task usually involves many steps. An agent needs to know what they are and plan ahead.',\n",
       " 'language': 'en'}"
      ]
     },
     "execution_count": 14,
     "metadata": {},
     "output_type": "execute_result"
    }
   ],
   "source": [
    "web_loader =WebBaseLoader(\"https://lilianweng.github.io/posts/2023-06-23-agent/\")\n",
    "web_docs = web_loader.load()\n",
    "len(web_docs)\n",
    "web_docs[0].page_content[:1000]\n",
    "web_docs[0].metadata"
   ]
  },
  {
   "cell_type": "markdown",
   "id": "11317e7e",
   "metadata": {},
   "source": [
    "### **Pdf loader**"
   ]
  },
  {
   "cell_type": "code",
   "execution_count": 15,
   "id": "10d6dd84",
   "metadata": {},
   "outputs": [],
   "source": [
    "pdf_path = os.path.join(DATA_DIR, r\"C:\\Users\\HP\\LangChain-Mastery\\data\\AI_ML.pdf\")"
   ]
  },
  {
   "cell_type": "code",
   "execution_count": 16,
   "id": "e9eb7f0d",
   "metadata": {},
   "outputs": [],
   "source": [
    "pdf_loader = PyPDFLoader(pdf_path)"
   ]
  },
  {
   "cell_type": "code",
   "execution_count": 17,
   "id": "9c423265",
   "metadata": {},
   "outputs": [],
   "source": [
    "pdf_docs = pdf_loader.load()"
   ]
  },
  {
   "cell_type": "code",
   "execution_count": 18,
   "id": "a8685443",
   "metadata": {},
   "outputs": [
    {
     "data": {
      "text/plain": [
       "2"
      ]
     },
     "execution_count": 18,
     "metadata": {},
     "output_type": "execute_result"
    }
   ],
   "source": [
    "len(pdf_docs)"
   ]
  },
  {
   "cell_type": "code",
   "execution_count": 19,
   "id": "ae32685f",
   "metadata": {},
   "outputs": [
    {
     "data": {
      "text/plain": [
       "'MUSKAN ARA\\n8540912896 ⋄ muskan17ara@gmail.com ⋄ LinkedIn ⋄ GitHub\\nPROFESSIONAL SUMMARY\\nAspiring Data Scientist with expertise inMachine Learning, Deep Learning, Generative AI, and Agentic AI.\\nPublished two research papers at SocProS 2025, IIT Roorkeefocused on cost-sensitive AI and medical\\nAI applications. Currently pursuing M.Sc. in Data Science, with a keen interest in building impactful AI-driven\\nsolutions.\\nEXPERIENCE\\nMachine Learning Intern, PW Skills 04/02/2025\\n• Actively contributing to the development of a Book Recommendation System Web App, focusing on Book\\nsimilarity analysis & User rating prediction.\\n• Applying machine learning techniques (Python) to enhance recommendation accuracy and user engagement.\\n• Involved in product development and Proofs of Concept (PoCs) to evaluate the feasibility and effectiveness of\\ndifferent recommendation strategies.\\nPROJECTS\\nSmart OCR & Audio Processing App\\nFunctionality: Real-time Text Extraction and Audio Transcription\\nContributions:\\n• Engin'"
      ]
     },
     "execution_count": 19,
     "metadata": {},
     "output_type": "execute_result"
    }
   ],
   "source": [
    "pdf_docs[0].page_content[:1000]"
   ]
  },
  {
   "cell_type": "code",
   "execution_count": 20,
   "id": "80023077",
   "metadata": {},
   "outputs": [
    {
     "data": {
      "text/plain": [
       "{'producer': 'pdfTeX-1.40.26',\n",
       " 'creator': 'LaTeX with hyperref',\n",
       " 'creationdate': '2025-05-05T16:31:57+00:00',\n",
       " 'author': '',\n",
       " 'keywords': '',\n",
       " 'moddate': '2025-05-05T16:31:57+00:00',\n",
       " 'ptex.fullbanner': 'This is pdfTeX, Version 3.141592653-2.6-1.40.26 (TeX Live 2024) kpathsea version 6.4.0',\n",
       " 'subject': '',\n",
       " 'title': '',\n",
       " 'trapped': '/False',\n",
       " 'source': 'C:\\\\Users\\\\HP\\\\LangChain-Mastery\\\\data\\\\AI_ML.pdf',\n",
       " 'total_pages': 2,\n",
       " 'page': 0,\n",
       " 'page_label': '1'}"
      ]
     },
     "execution_count": 20,
     "metadata": {},
     "output_type": "execute_result"
    }
   ],
   "source": [
    "pdf_docs[0].metadata"
   ]
  },
  {
   "cell_type": "markdown",
   "id": "00fce83e",
   "metadata": {},
   "source": [
    "### **HTML**"
   ]
  },
  {
   "cell_type": "code",
   "execution_count": 21,
   "id": "b50df458",
   "metadata": {},
   "outputs": [],
   "source": [
    "html_path = os.path.join(DATA_DIR, r\"C:\\Users\\HP\\LangChain-Mastery\\data\\sample1.html\")"
   ]
  },
  {
   "cell_type": "code",
   "execution_count": 22,
   "id": "98271e97",
   "metadata": {},
   "outputs": [],
   "source": [
    "html_loader = UnstructuredHTMLLoader(html_path)"
   ]
  },
  {
   "cell_type": "code",
   "execution_count": 23,
   "id": "78149c6e",
   "metadata": {},
   "outputs": [
    {
     "data": {
      "text/plain": [
       "{'source': 'C:\\\\Users\\\\HP\\\\LangChain-Mastery\\\\data\\\\sample1.html'}"
      ]
     },
     "execution_count": 23,
     "metadata": {},
     "output_type": "execute_result"
    }
   ],
   "source": [
    "html_docs = html_loader.load()\n",
    "len(html_docs)\n",
    "html_docs[0].page_content[:1000]\n",
    "html_docs[0].metadata"
   ]
  },
  {
   "cell_type": "markdown",
   "id": "b0758e8c",
   "metadata": {},
   "source": [
    "### **SQL Loader**"
   ]
  },
  {
   "cell_type": "code",
   "execution_count": 24,
   "id": "f99d3e98",
   "metadata": {},
   "outputs": [],
   "source": [
    "from langchain_community.utilities.sql_database import SQLDatabase\n",
    "from langchain_community.document_loaders import SQLDatabaseLoader"
   ]
  },
  {
   "cell_type": "code",
   "execution_count": 42,
   "id": "f982b60a",
   "metadata": {},
   "outputs": [],
   "source": [
    "from langchain.document_loaders import TextLoader\n",
    "\n",
    "sql_path = os.path.join(DATA_DIR, r\"C:\\Users\\HP\\LangChain-Mastery\\data\\Sample-SQL-File-100-Rows.sql\")  # Replace with your actual SQL file path\n",
    "\n",
    "# Load the SQL file\n",
    "loader = TextLoader(sql_path)\n",
    "documents = loader.load()"
   ]
  },
  {
   "cell_type": "code",
   "execution_count": 44,
   "id": "69e9dd42",
   "metadata": {},
   "outputs": [
    {
     "data": {
      "text/plain": [
       "1"
      ]
     },
     "execution_count": 44,
     "metadata": {},
     "output_type": "execute_result"
    }
   ],
   "source": [
    "documents = loader.load()\n",
    "len(documents)"
   ]
  },
  {
   "cell_type": "code",
   "execution_count": 45,
   "id": "28b1f7b8",
   "metadata": {},
   "outputs": [
    {
     "data": {
      "text/plain": [
       "{'source': 'C:\\\\Users\\\\HP\\\\LangChain-Mastery\\\\data\\\\Sample-SQL-File-100-Rows.sql'}"
      ]
     },
     "execution_count": 45,
     "metadata": {},
     "output_type": "execute_result"
    }
   ],
   "source": [
    "documents[0].page_content[:1000]\n",
    "documents[0].metadata"
   ]
  },
  {
   "cell_type": "markdown",
   "id": "0db45346",
   "metadata": {},
   "source": [
    "# **Sqlite loader**"
   ]
  },
  {
   "cell_type": "code",
   "execution_count": 53,
   "id": "4bc0c03a",
   "metadata": {},
   "outputs": [],
   "source": [
    "from langchain_community.utilities.sql_database import SQLDatabase\n",
    "from langchain_community.document_loaders import SQLDatabaseLoader\n",
    "sqlite_path = os.path.join(DATA_DIR, \"example.sqlite\")  # Replace with your actual SQLite file path\n",
    "db = SQLDatabase.from_uri(f\"sqlite:///{sqlite_path}\")"
   ]
  },
  {
   "cell_type": "code",
   "execution_count": 54,
   "id": "48b121c8",
   "metadata": {},
   "outputs": [
    {
     "name": "stdout",
     "output_type": "stream",
     "text": [
      "['products']\n"
     ]
    }
   ],
   "source": [
    "table_name = db.get_usable_table_names()\n",
    "print(table_name)"
   ]
  },
  {
   "cell_type": "code",
   "execution_count": 55,
   "id": "f54033cd",
   "metadata": {},
   "outputs": [
    {
     "name": "stdout",
     "output_type": "stream",
     "text": [
      "\n",
      "CREATE TABLE products (\n",
      "\tid INTEGER, \n",
      "\tname TEXT NOT NULL, \n",
      "\tprice REAL, \n",
      "\tquantity INTEGER, \n",
      "\tPRIMARY KEY (id)\n",
      ")\n",
      "\n",
      "/*\n",
      "3 rows from products table:\n",
      "id\tname\tprice\tquantity\n",
      "1\tLaptop\t1200.0\t10\n",
      "2\tSmartphone\t800.0\t20\n",
      "3\tTablet\t450.0\t15\n",
      "*/\n"
     ]
    },
    {
     "data": {
      "text/plain": [
       "'id: 1\\nname: Laptop\\nprice: 1200.0\\nquantity: 10'"
      ]
     },
     "execution_count": 55,
     "metadata": {},
     "output_type": "execute_result"
    }
   ],
   "source": [
    "print(db.get_table_info(['products']))\n",
    "query = \"SELECT * FROM products LIMIT 5\"\n",
    "loader = SQLDatabaseLoader(db=db, query=query)\n",
    "db_docs = loader.load()\n",
    "len(db_docs)\n",
    "db_docs[0].page_content[:1000]  # Display the first 1000 characters of the first database document"
   ]
  },
  {
   "cell_type": "markdown",
   "id": "809157f7",
   "metadata": {},
   "source": [
    "## **WIKIPEDIA LOADER**"
   ]
  },
  {
   "cell_type": "code",
   "execution_count": 56,
   "id": "3cbd4a22",
   "metadata": {},
   "outputs": [],
   "source": [
    "from langchain_community.document_loaders import WikipediaLoader"
   ]
  },
  {
   "cell_type": "code",
   "execution_count": 63,
   "id": "a9874f3d",
   "metadata": {},
   "outputs": [
    {
     "name": "stdout",
     "output_type": "stream",
     "text": [
      "A large la\n"
     ]
    }
   ],
   "source": [
    "from langchain.document_loaders import WikipediaLoader\n",
    "\n",
    "# Initialize the loader with your query\n",
    "wiki_loader = WikipediaLoader(query=\"Large Language Model\", lang=\"en\")\n",
    "\n",
    "# Load the documents\n",
    "docs = wiki_loader.load()\n",
    "\n",
    "# Print the first document\n",
    "print(docs[0].page_content[:10])\n"
   ]
  }
 ],
 "metadata": {
  "kernelspec": {
   "display_name": "Python 3",
   "language": "python",
   "name": "python3"
  },
  "language_info": {
   "codemirror_mode": {
    "name": "ipython",
    "version": 3
   },
   "file_extension": ".py",
   "mimetype": "text/x-python",
   "name": "python",
   "nbconvert_exporter": "python",
   "pygments_lexer": "ipython3",
   "version": "3.11.0"
  }
 },
 "nbformat": 4,
 "nbformat_minor": 5
}
